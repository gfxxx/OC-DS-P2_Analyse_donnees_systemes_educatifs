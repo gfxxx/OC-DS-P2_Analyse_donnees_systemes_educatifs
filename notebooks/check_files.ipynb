{
 "cells": [
  {
   "cell_type": "code",
   "execution_count": 26,
   "outputs": [],
   "source": [
    "import pandas as pd\n"
   ],
   "metadata": {
    "collapsed": false,
    "pycharm": {
     "name": "#%%\n"
    }
   }
  },
  {
   "cell_type": "code",
   "execution_count": 27,
   "outputs": [],
   "source": [
    "df_country = df = pd.read_csv('../data/EdStatsCountry.csv')\n",
    "df_country_series = pd.read_csv('../data/EdStatsCountry-Series.csv')\n",
    "df_data = pd.read_csv('../data/EdStatsData.csv')\n",
    "df_footer = pd.read_csv('../data/EdStatsFootNote.csv')\n",
    "df_series = pd.read_csv('../data/EdStatsSeries.csv')"
   ],
   "metadata": {
    "collapsed": false,
    "pycharm": {
     "name": "#%%\n"
    }
   }
  },
  {
   "cell_type": "code",
   "execution_count": 28,
   "outputs": [],
   "source": [
    "def stats_df(df):\n",
    "    nb_col = len(df.columns)\n",
    "    nb_lines = len(df)\n",
    "    percent_null = df.isnull().sum().sum() / (nb_lines * nb_col) * 100\n",
    "    duplicate = df.duplicated().any()\n",
    "    return {'columns': nb_col, 'lines': nb_lines, 'Percentage of null': percent_null, 'duplicate': duplicate}\n"
   ],
   "metadata": {
    "collapsed": false,
    "pycharm": {
     "name": "#%%\n"
    }
   }
  },
  {
   "cell_type": "code",
   "execution_count": 29,
   "outputs": [
    {
     "data": {
      "text/plain": "{'columns': 32,\n 'lines': 241,\n 'Percentage of null': 30.52385892116183,\n 'duplicate': False}"
     },
     "execution_count": 29,
     "metadata": {},
     "output_type": "execute_result"
    }
   ],
   "source": [
    "# EdStatsCountry.csv\n",
    "stats_df(df_country)\n"
   ],
   "metadata": {
    "collapsed": false,
    "pycharm": {
     "name": "#%%\n"
    }
   }
  },
  {
   "cell_type": "code",
   "execution_count": 30,
   "outputs": [
    {
     "data": {
      "text/plain": "{'columns': 4, 'lines': 613, 'Percentage of null': 25.0, 'duplicate': False}"
     },
     "execution_count": 30,
     "metadata": {},
     "output_type": "execute_result"
    }
   ],
   "source": [
    "# EdStatsCountry-Series.csv\n",
    "stats_df(df_country_series)\n"
   ],
   "metadata": {
    "collapsed": false,
    "pycharm": {
     "name": "#%%\n"
    }
   }
  },
  {
   "cell_type": "code",
   "execution_count": 31,
   "outputs": [
    {
     "data": {
      "text/plain": "{'columns': 70,\n 'lines': 886930,\n 'Percentage of null': 86.09985165522806,\n 'duplicate': False}"
     },
     "execution_count": 31,
     "metadata": {},
     "output_type": "execute_result"
    }
   ],
   "source": [
    "# EdStatsData.csv\n",
    "stats_df(df_data)"
   ],
   "metadata": {
    "collapsed": false,
    "pycharm": {
     "name": "#%%\n"
    }
   }
  },
  {
   "cell_type": "code",
   "execution_count": 32,
   "outputs": [
    {
     "data": {
      "text/plain": "{'columns': 5, 'lines': 643638, 'Percentage of null': 20.0, 'duplicate': False}"
     },
     "execution_count": 32,
     "metadata": {},
     "output_type": "execute_result"
    }
   ],
   "source": [
    "# EdStatsFootNote.csv\n",
    "stats_df(df_footer)"
   ],
   "metadata": {
    "collapsed": false,
    "pycharm": {
     "name": "#%%\n"
    }
   }
  },
  {
   "cell_type": "code",
   "execution_count": 33,
   "outputs": [
    {
     "data": {
      "text/plain": "{'columns': 21,\n 'lines': 3665,\n 'Percentage of null': 71.7248099785617,\n 'duplicate': False}"
     },
     "execution_count": 33,
     "metadata": {},
     "output_type": "execute_result"
    }
   ],
   "source": [
    "# EdStatsSeries.csv\n",
    "stats_df(df_series)\n"
   ],
   "metadata": {
    "collapsed": false,
    "pycharm": {
     "name": "#%%\n"
    }
   }
  },
  {
   "cell_type": "code",
   "execution_count": 33,
   "outputs": [],
   "source": [],
   "metadata": {
    "collapsed": false,
    "pycharm": {
     "name": "#%%\n"
    }
   }
  }
 ],
 "metadata": {
  "kernelspec": {
   "display_name": "Python 3",
   "language": "python",
   "name": "python3"
  },
  "language_info": {
   "codemirror_mode": {
    "name": "ipython",
    "version": 2
   },
   "file_extension": ".py",
   "mimetype": "text/x-python",
   "name": "python",
   "nbconvert_exporter": "python",
   "pygments_lexer": "ipython2",
   "version": "2.7.6"
  }
 },
 "nbformat": 4,
 "nbformat_minor": 0
}